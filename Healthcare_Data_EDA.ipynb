{
 "cells": [
  {
   "cell_type": "code",
   "execution_count": 1,
   "id": "2c37e3b9-e559-40e7-b26d-2d6cbd22daeb",
   "metadata": {},
   "outputs": [],
   "source": [
    "import pandas as pd"
   ]
  },
  {
   "cell_type": "code",
   "execution_count": 103,
   "id": "081c330b-ef1f-4958-9623-4ffcb38f4957",
   "metadata": {},
   "outputs": [],
   "source": [
    "df = pd.read_csv('Healthcare_Data.csv')"
   ]
  },
  {
   "cell_type": "code",
   "execution_count": 30,
   "id": "684ffbc7-2628-4cb9-b240-7c75afec04cf",
   "metadata": {},
   "outputs": [
    {
     "data": {
      "text/html": [
       "<div>\n",
       "<style scoped>\n",
       "    .dataframe tbody tr th:only-of-type {\n",
       "        vertical-align: middle;\n",
       "    }\n",
       "\n",
       "    .dataframe tbody tr th {\n",
       "        vertical-align: top;\n",
       "    }\n",
       "\n",
       "    .dataframe thead th {\n",
       "        text-align: right;\n",
       "    }\n",
       "</style>\n",
       "<table border=\"1\" class=\"dataframe\">\n",
       "  <thead>\n",
       "    <tr style=\"text-align: right;\">\n",
       "      <th></th>\n",
       "      <th>Patient_ID</th>\n",
       "      <th>Gender</th>\n",
       "      <th>Age</th>\n",
       "      <th>Weight</th>\n",
       "      <th>Height</th>\n",
       "      <th>Smoker</th>\n",
       "      <th>Diabetes</th>\n",
       "      <th>Hypertension</th>\n",
       "      <th>Heart_Disease</th>\n",
       "      <th>Medication</th>\n",
       "    </tr>\n",
       "  </thead>\n",
       "  <tbody>\n",
       "    <tr>\n",
       "      <th>0</th>\n",
       "      <td>1</td>\n",
       "      <td>Male</td>\n",
       "      <td>45</td>\n",
       "      <td>70</td>\n",
       "      <td>175</td>\n",
       "      <td>No</td>\n",
       "      <td>No</td>\n",
       "      <td>Yes</td>\n",
       "      <td>No</td>\n",
       "      <td>Metoprolol</td>\n",
       "    </tr>\n",
       "    <tr>\n",
       "      <th>1</th>\n",
       "      <td>2</td>\n",
       "      <td>Female</td>\n",
       "      <td>32</td>\n",
       "      <td>55</td>\n",
       "      <td>162</td>\n",
       "      <td>No</td>\n",
       "      <td>No</td>\n",
       "      <td>No</td>\n",
       "      <td>No</td>\n",
       "      <td>None</td>\n",
       "    </tr>\n",
       "    <tr>\n",
       "      <th>2</th>\n",
       "      <td>3</td>\n",
       "      <td>Male</td>\n",
       "      <td>68</td>\n",
       "      <td>80</td>\n",
       "      <td>178</td>\n",
       "      <td>Yes</td>\n",
       "      <td>Yes</td>\n",
       "      <td>Yes</td>\n",
       "      <td>Yes</td>\n",
       "      <td>Aspirin</td>\n",
       "    </tr>\n",
       "    <tr>\n",
       "      <th>3</th>\n",
       "      <td>4</td>\n",
       "      <td>Female</td>\n",
       "      <td>50</td>\n",
       "      <td>65</td>\n",
       "      <td>160</td>\n",
       "      <td>No</td>\n",
       "      <td>Yes</td>\n",
       "      <td>No</td>\n",
       "      <td>No</td>\n",
       "      <td>Insulin</td>\n",
       "    </tr>\n",
       "    <tr>\n",
       "      <th>4</th>\n",
       "      <td>5</td>\n",
       "      <td>Female</td>\n",
       "      <td>22</td>\n",
       "      <td>52</td>\n",
       "      <td>168</td>\n",
       "      <td>No</td>\n",
       "      <td>No</td>\n",
       "      <td>No</td>\n",
       "      <td>No</td>\n",
       "      <td>None</td>\n",
       "    </tr>\n",
       "  </tbody>\n",
       "</table>\n",
       "</div>"
      ],
      "text/plain": [
       "   Patient_ID  Gender  Age  Weight  Height Smoker Diabetes Hypertension  \\\n",
       "0           1    Male   45      70     175     No       No          Yes   \n",
       "1           2  Female   32      55     162     No       No           No   \n",
       "2           3    Male   68      80     178    Yes      Yes          Yes   \n",
       "3           4  Female   50      65     160     No      Yes           No   \n",
       "4           5  Female   22      52     168     No       No           No   \n",
       "\n",
       "  Heart_Disease  Medication  \n",
       "0            No  Metoprolol  \n",
       "1            No        None  \n",
       "2           Yes     Aspirin  \n",
       "3            No     Insulin  \n",
       "4            No        None  "
      ]
     },
     "execution_count": 30,
     "metadata": {},
     "output_type": "execute_result"
    }
   ],
   "source": [
    "## Descriptive Analysis:\n",
    "    \n",
    "df.head()"
   ]
  },
  {
   "cell_type": "code",
   "execution_count": 31,
   "id": "8356a09a-4822-412e-a78f-b27b16141b45",
   "metadata": {},
   "outputs": [
    {
     "name": "stdout",
     "output_type": "stream",
     "text": [
      "<class 'pandas.core.frame.DataFrame'>\n",
      "RangeIndex: 10 entries, 0 to 9\n",
      "Data columns (total 10 columns):\n",
      " #   Column         Non-Null Count  Dtype \n",
      "---  ------         --------------  ----- \n",
      " 0   Patient_ID     10 non-null     int64 \n",
      " 1   Gender         10 non-null     object\n",
      " 2   Age            10 non-null     int64 \n",
      " 3   Weight         10 non-null     int64 \n",
      " 4   Height         10 non-null     int64 \n",
      " 5   Smoker         10 non-null     object\n",
      " 6   Diabetes       10 non-null     object\n",
      " 7   Hypertension   10 non-null     object\n",
      " 8   Heart_Disease  10 non-null     object\n",
      " 9   Medication     10 non-null     object\n",
      "dtypes: int64(4), object(6)\n",
      "memory usage: 928.0+ bytes\n"
     ]
    }
   ],
   "source": [
    "df.info()"
   ]
  },
  {
   "cell_type": "code",
   "execution_count": 32,
   "id": "53944453-b3ed-4933-bd6c-912b1860d84f",
   "metadata": {},
   "outputs": [
    {
     "data": {
      "text/html": [
       "<div>\n",
       "<style scoped>\n",
       "    .dataframe tbody tr th:only-of-type {\n",
       "        vertical-align: middle;\n",
       "    }\n",
       "\n",
       "    .dataframe tbody tr th {\n",
       "        vertical-align: top;\n",
       "    }\n",
       "\n",
       "    .dataframe thead th {\n",
       "        text-align: right;\n",
       "    }\n",
       "</style>\n",
       "<table border=\"1\" class=\"dataframe\">\n",
       "  <thead>\n",
       "    <tr style=\"text-align: right;\">\n",
       "      <th></th>\n",
       "      <th>Patient_ID</th>\n",
       "      <th>Age</th>\n",
       "      <th>Weight</th>\n",
       "      <th>Height</th>\n",
       "    </tr>\n",
       "  </thead>\n",
       "  <tbody>\n",
       "    <tr>\n",
       "      <th>count</th>\n",
       "      <td>10.00000</td>\n",
       "      <td>10.000000</td>\n",
       "      <td>10.000000</td>\n",
       "      <td>10.000000</td>\n",
       "    </tr>\n",
       "    <tr>\n",
       "      <th>mean</th>\n",
       "      <td>5.50000</td>\n",
       "      <td>49.000000</td>\n",
       "      <td>68.000000</td>\n",
       "      <td>169.300000</td>\n",
       "    </tr>\n",
       "    <tr>\n",
       "      <th>std</th>\n",
       "      <td>3.02765</td>\n",
       "      <td>16.213849</td>\n",
       "      <td>10.934146</td>\n",
       "      <td>7.469196</td>\n",
       "    </tr>\n",
       "    <tr>\n",
       "      <th>min</th>\n",
       "      <td>1.00000</td>\n",
       "      <td>22.000000</td>\n",
       "      <td>52.000000</td>\n",
       "      <td>160.000000</td>\n",
       "    </tr>\n",
       "    <tr>\n",
       "      <th>25%</th>\n",
       "      <td>3.25000</td>\n",
       "      <td>39.750000</td>\n",
       "      <td>60.750000</td>\n",
       "      <td>162.750000</td>\n",
       "    </tr>\n",
       "    <tr>\n",
       "      <th>50%</th>\n",
       "      <td>5.50000</td>\n",
       "      <td>47.500000</td>\n",
       "      <td>67.500000</td>\n",
       "      <td>169.000000</td>\n",
       "    </tr>\n",
       "    <tr>\n",
       "      <th>75%</th>\n",
       "      <td>7.75000</td>\n",
       "      <td>58.750000</td>\n",
       "      <td>76.500000</td>\n",
       "      <td>175.000000</td>\n",
       "    </tr>\n",
       "    <tr>\n",
       "      <th>max</th>\n",
       "      <td>10.00000</td>\n",
       "      <td>75.000000</td>\n",
       "      <td>85.000000</td>\n",
       "      <td>180.000000</td>\n",
       "    </tr>\n",
       "  </tbody>\n",
       "</table>\n",
       "</div>"
      ],
      "text/plain": [
       "       Patient_ID        Age     Weight      Height\n",
       "count    10.00000  10.000000  10.000000   10.000000\n",
       "mean      5.50000  49.000000  68.000000  169.300000\n",
       "std       3.02765  16.213849  10.934146    7.469196\n",
       "min       1.00000  22.000000  52.000000  160.000000\n",
       "25%       3.25000  39.750000  60.750000  162.750000\n",
       "50%       5.50000  47.500000  67.500000  169.000000\n",
       "75%       7.75000  58.750000  76.500000  175.000000\n",
       "max      10.00000  75.000000  85.000000  180.000000"
      ]
     },
     "execution_count": 32,
     "metadata": {},
     "output_type": "execute_result"
    }
   ],
   "source": [
    "## Calculate basic statistics like mean, median, and standard deviation for age, weight, and height.\n",
    "df.describe()"
   ]
  },
  {
   "cell_type": "code",
   "execution_count": 39,
   "id": "1e200de0-b10f-49aa-9bd2-8fb8af417c4c",
   "metadata": {},
   "outputs": [
    {
     "name": "stdout",
     "output_type": "stream",
     "text": [
      "40.0\n"
     ]
    }
   ],
   "source": [
    "## Determine the percentage of smokers in the dataset.\n",
    "total_count = len(df['Smoker'])\n",
    "yes_count = len(df[df['Smoker'] == 'Yes'])\n",
    "percentage_smokers = (yes_count / total_count) * 100\n",
    "\n",
    "print(percentage_smokers)"
   ]
  },
  {
   "cell_type": "code",
   "execution_count": 46,
   "id": "188e7f7a-e621-4b15-bb70-4f49cc5f6d1e",
   "metadata": {},
   "outputs": [
    {
     "name": "stdout",
     "output_type": "stream",
     "text": [
      "Diabetes_count: 4\n",
      "Hypertension_count: 6\n",
      "Heart_disease_count: 6\n"
     ]
    }
   ],
   "source": [
    "## Count the number of patients with diabetes, hypertension, and heart disease.\n",
    "\n",
    "diabetes_count = len(df[df['Diabetes'] == 'Yes'])\n",
    "hypertension_count = len(df[df['Hypertension'] == 'Yes'])\n",
    "heart_disease_count = len(df[df['Heart_Disease'] == 'Yes'])\n",
    "\n",
    "print(\"Diabetes_count:\", diabetes_count)\n",
    "print(\"Hypertension_count:\", hypertension_count)\n",
    "print(\"Heart_disease_count:\", heart_disease_count)"
   ]
  },
  {
   "cell_type": "code",
   "execution_count": 52,
   "id": "d73b70b4-18f3-4976-9f79-870d19c4ba1d",
   "metadata": {},
   "outputs": [
    {
     "name": "stdout",
     "output_type": "stream",
     "text": [
      "       Patient_ID                                            Age        ...  \\\n",
      "            count mean       std  min  25%  50%  75%   max count  mean  ...   \n",
      "Gender                                                                  ...   \n",
      "Female        5.0  5.4  2.701851  2.0  4.0  5.0  7.0   9.0   5.0  37.4  ...   \n",
      "Male          5.0  5.6  3.646917  1.0  3.0  6.0  8.0  10.0   5.0  60.6  ...   \n",
      "\n",
      "       Weight       Height                                                      \n",
      "          75%   max  count   mean       std    min    25%    50%    75%    max  \n",
      "Gender                                                                          \n",
      "Female   63.0  65.0    5.0  163.0  3.464102  160.0  160.0  162.0  165.0  168.0  \n",
      "Male     80.0  85.0    5.0  175.6  3.781534  170.0  175.0  175.0  178.0  180.0  \n",
      "\n",
      "[2 rows x 32 columns]\n"
     ]
    }
   ],
   "source": [
    "## Create summary statistics by gender.\n",
    "\n",
    "grouped_by_gender = df.groupby('Gender')\n",
    "summary_stats = grouped_by_gender.describe()\n",
    "print(summary_stats)"
   ]
  },
  {
   "cell_type": "code",
   "execution_count": 69,
   "id": "6ac0b0b2-0418-4dfe-a7b4-cde220f997e4",
   "metadata": {},
   "outputs": [
    {
     "data": {
      "image/png": "[encoded data removed]",
      "text/plain": [
       "<Figure size 432x288 with 1 Axes>"
      ]
     },
     "metadata": {
      "needs_background": "light"
     },
     "output_type": "display_data"
    }
   ],
   "source": [
    "## Create histograms or box plots to visualize the distribution of age, weight, and height.\n",
    "import matplotlib.pyplot as plt\n",
    "import numpy as np\n",
    "\n",
    "plt.bar(x=df['Patient_ID'], height= df['Age'], label=\"Patient Age\")\n",
    "plt.plot()\n",
    "\n",
    "plt.xlabel(\"Patient\")\n",
    "plt.ylabel(\"Age in Years\")\n",
    "plt.title(\"Age Histogram\")\n",
    "plt.legend()\n",
    "plt.show()"
   ]
  },
  {
   "cell_type": "code",
   "execution_count": 68,
   "id": "707dc8b1-1d23-4a02-947f-cf50089c0266",
   "metadata": {},
   "outputs": [
    {
     "data": {
      "image/png": "[encoded data removed]",
      "text/plain": [
       "<Figure size 432x288 with 1 Axes>"
      ]
     },
     "metadata": {
      "needs_background": "light"
     },
     "output_type": "display_data"
    }
   ],
   "source": [
    "plt.bar(x=df['Patient_ID'], height= df['Weight'], label=\"Patient Weight\")\n",
    "plt.plot()\n",
    "\n",
    "plt.xlabel(\"Patient\")\n",
    "plt.ylabel(\"Weight in lbs\")\n",
    "plt.title(\"Weight Histogram\")\n",
    "plt.legend()\n",
    "plt.show()"
   ]
  },
  {
   "cell_type": "code",
   "execution_count": 72,
   "id": "c9df10e6-2111-498a-be76-ce594314940c",
   "metadata": {},
   "outputs": [
    {
     "data": {
      "image/png": "[encoded data removed]",
      "text/plain": [
       "<Figure size 432x288 with 1 Axes>"
      ]
     },
     "metadata": {
      "needs_background": "light"
     },
     "output_type": "display_data"
    }
   ],
   "source": [
    "plt.bar(x=df['Patient_ID'], height= df['Height'], label=\"Patient Height\")\n",
    "plt.plot()\n",
    "\n",
    "plt.xlabel(\"Patient\")\n",
    "plt.ylabel(\"Height in inches\")\n",
    "plt.title(\"Height Histogram\")\n",
    "plt.legend()\n",
    "plt.show()"
   ]
  },
  {
   "cell_type": "code",
   "execution_count": 107,
   "id": "a5e0a531-93f4-4e41-bf31-9c1fbd631a6f",
   "metadata": {},
   "outputs": [
    {
     "name": "stdout",
     "output_type": "stream",
     "text": [
      "Male      5\n",
      "Female    5\n",
      "Name: Gender, dtype: int64\n"
     ]
    }
   ],
   "source": [
    "gender_counts = df['Gender'].value_counts()\n",
    "print(gender_counts)"
   ]
  },
  {
   "cell_type": "code",
   "execution_count": 110,
   "id": "bf011178-e976-4113-a9a8-52481dec219f",
   "metadata": {},
   "outputs": [
    {
     "data": {
      "text/plain": [
       "Text(0, 0.5, 'Number of Patients')"
      ]
     },
     "execution_count": 110,
     "metadata": {},
     "output_type": "execute_result"
    },
    {
     "data": {
      "image/png": "[encoded data removed]",
      "text/plain": [
       "<Figure size 576x432 with 1 Axes>"
      ]
     },
     "metadata": {
      "needs_background": "light"
     },
     "output_type": "display_data"
    }
   ],
   "source": [
    "## Generate a bar chart to show the distribution of patients by gender.\n",
    "\n",
    "plt.figure(figsize=(8, 6))\n",
    "gender_counts.plot(kind='bar', color=['skyblue', 'salmon'])\n",
    "plt.title('Distribution of Patients by Gender')\n",
    "plt.xlabel('Gender')\n",
    "plt.ylabel('Number of Patients')"
   ]
  },
  {
   "cell_type": "code",
   "execution_count": null,
   "id": "e0d2a941-8c60-4226-a458-acc0d7e54db4",
   "metadata": {},
   "outputs": [],
   "source": []
  }
 ],
 "metadata": {
  "kernelspec": {
   "display_name": "anaconda-2022.05-py39",
   "language": "python",
   "name": "conda-env-anaconda-2022.05-py39-py"
  },
  "language_info": {
   "codemirror_mode": {
    "name": "ipython",
    "version": 3
   },
   "file_extension": ".py",
   "mimetype": "text/x-python",
   "name": "python",
   "nbconvert_exporter": "python",
   "pygments_lexer": "ipython3",
   "version": "3.9.12"
  }
 },
 "nbformat": 4,
 "nbformat_minor": 5
}
